{
  "nbformat": 4,
  "nbformat_minor": 0,
  "metadata": {
    "colab": {
      "provenance": [],
      "gpuType": "T4"
    },
    "kernelspec": {
      "name": "python3",
      "display_name": "Python 3"
    },
    "language_info": {
      "name": "python"
    },
    "accelerator": "GPU"
  },
  "cells": [
    {
      "cell_type": "code",
      "source": [
        "pip install transformers datasets accelerate #Installing required Libraries"
      ],
      "metadata": {
        "colab": {
          "base_uri": "https://localhost:8080/"
        },
        "id": "OQLTr5MMSQkr",
        "outputId": "57632974-5be1-4cab-8a90-01f9b1a4d4d4"
      },
      "execution_count": null,
      "outputs": [
        {
          "output_type": "stream",
          "name": "stdout",
          "text": [
            "Requirement already satisfied: transformers in /usr/local/lib/python3.10/dist-packages (4.35.2)\n",
            "Requirement already satisfied: datasets in /usr/local/lib/python3.10/dist-packages (2.15.0)\n",
            "Requirement already satisfied: accelerate in /usr/local/lib/python3.10/dist-packages (0.25.0)\n",
            "Requirement already satisfied: filelock in /usr/local/lib/python3.10/dist-packages (from transformers) (3.13.1)\n",
            "Requirement already satisfied: huggingface-hub<1.0,>=0.16.4 in /usr/local/lib/python3.10/dist-packages (from transformers) (0.19.4)\n",
            "Requirement already satisfied: numpy>=1.17 in /usr/local/lib/python3.10/dist-packages (from transformers) (1.23.5)\n",
            "Requirement already satisfied: packaging>=20.0 in /usr/local/lib/python3.10/dist-packages (from transformers) (23.2)\n",
            "Requirement already satisfied: pyyaml>=5.1 in /usr/local/lib/python3.10/dist-packages (from transformers) (6.0.1)\n",
            "Requirement already satisfied: regex!=2019.12.17 in /usr/local/lib/python3.10/dist-packages (from transformers) (2023.6.3)\n",
            "Requirement already satisfied: requests in /usr/local/lib/python3.10/dist-packages (from transformers) (2.31.0)\n",
            "Requirement already satisfied: tokenizers<0.19,>=0.14 in /usr/local/lib/python3.10/dist-packages (from transformers) (0.15.0)\n",
            "Requirement already satisfied: safetensors>=0.3.1 in /usr/local/lib/python3.10/dist-packages (from transformers) (0.4.1)\n",
            "Requirement already satisfied: tqdm>=4.27 in /usr/local/lib/python3.10/dist-packages (from transformers) (4.66.1)\n",
            "Requirement already satisfied: pyarrow>=8.0.0 in /usr/local/lib/python3.10/dist-packages (from datasets) (9.0.0)\n",
            "Requirement already satisfied: pyarrow-hotfix in /usr/local/lib/python3.10/dist-packages (from datasets) (0.6)\n",
            "Requirement already satisfied: dill<0.3.8,>=0.3.0 in /usr/local/lib/python3.10/dist-packages (from datasets) (0.3.7)\n",
            "Requirement already satisfied: pandas in /usr/local/lib/python3.10/dist-packages (from datasets) (1.5.3)\n",
            "Requirement already satisfied: xxhash in /usr/local/lib/python3.10/dist-packages (from datasets) (3.4.1)\n",
            "Requirement already satisfied: multiprocess in /usr/local/lib/python3.10/dist-packages (from datasets) (0.70.15)\n",
            "Requirement already satisfied: fsspec[http]<=2023.10.0,>=2023.1.0 in /usr/local/lib/python3.10/dist-packages (from datasets) (2023.6.0)\n",
            "Requirement already satisfied: aiohttp in /usr/local/lib/python3.10/dist-packages (from datasets) (3.9.1)\n",
            "Requirement already satisfied: psutil in /usr/local/lib/python3.10/dist-packages (from accelerate) (5.9.5)\n",
            "Requirement already satisfied: torch>=1.10.0 in /usr/local/lib/python3.10/dist-packages (from accelerate) (2.1.0+cu118)\n",
            "Requirement already satisfied: attrs>=17.3.0 in /usr/local/lib/python3.10/dist-packages (from aiohttp->datasets) (23.1.0)\n",
            "Requirement already satisfied: multidict<7.0,>=4.5 in /usr/local/lib/python3.10/dist-packages (from aiohttp->datasets) (6.0.4)\n",
            "Requirement already satisfied: yarl<2.0,>=1.0 in /usr/local/lib/python3.10/dist-packages (from aiohttp->datasets) (1.9.3)\n",
            "Requirement already satisfied: frozenlist>=1.1.1 in /usr/local/lib/python3.10/dist-packages (from aiohttp->datasets) (1.4.0)\n",
            "Requirement already satisfied: aiosignal>=1.1.2 in /usr/local/lib/python3.10/dist-packages (from aiohttp->datasets) (1.3.1)\n",
            "Requirement already satisfied: async-timeout<5.0,>=4.0 in /usr/local/lib/python3.10/dist-packages (from aiohttp->datasets) (4.0.3)\n",
            "Requirement already satisfied: typing-extensions>=3.7.4.3 in /usr/local/lib/python3.10/dist-packages (from huggingface-hub<1.0,>=0.16.4->transformers) (4.5.0)\n",
            "Requirement already satisfied: charset-normalizer<4,>=2 in /usr/local/lib/python3.10/dist-packages (from requests->transformers) (3.3.2)\n",
            "Requirement already satisfied: idna<4,>=2.5 in /usr/local/lib/python3.10/dist-packages (from requests->transformers) (3.6)\n",
            "Requirement already satisfied: urllib3<3,>=1.21.1 in /usr/local/lib/python3.10/dist-packages (from requests->transformers) (2.0.7)\n",
            "Requirement already satisfied: certifi>=2017.4.17 in /usr/local/lib/python3.10/dist-packages (from requests->transformers) (2023.11.17)\n",
            "Requirement already satisfied: sympy in /usr/local/lib/python3.10/dist-packages (from torch>=1.10.0->accelerate) (1.12)\n",
            "Requirement already satisfied: networkx in /usr/local/lib/python3.10/dist-packages (from torch>=1.10.0->accelerate) (3.2.1)\n",
            "Requirement already satisfied: jinja2 in /usr/local/lib/python3.10/dist-packages (from torch>=1.10.0->accelerate) (3.1.2)\n",
            "Requirement already satisfied: triton==2.1.0 in /usr/local/lib/python3.10/dist-packages (from torch>=1.10.0->accelerate) (2.1.0)\n",
            "Requirement already satisfied: python-dateutil>=2.8.1 in /usr/local/lib/python3.10/dist-packages (from pandas->datasets) (2.8.2)\n",
            "Requirement already satisfied: pytz>=2020.1 in /usr/local/lib/python3.10/dist-packages (from pandas->datasets) (2023.3.post1)\n",
            "Requirement already satisfied: six>=1.5 in /usr/local/lib/python3.10/dist-packages (from python-dateutil>=2.8.1->pandas->datasets) (1.16.0)\n",
            "Requirement already satisfied: MarkupSafe>=2.0 in /usr/local/lib/python3.10/dist-packages (from jinja2->torch>=1.10.0->accelerate) (2.1.3)\n",
            "Requirement already satisfied: mpmath>=0.19 in /usr/local/lib/python3.10/dist-packages (from sympy->torch>=1.10.0->accelerate) (1.3.0)\n"
          ]
        }
      ]
    },
    {
      "cell_type": "code",
      "source": [
        "!unzip MMU-Iris-Database.zip -d ./data"
      ],
      "metadata": {
        "colab": {
          "base_uri": "https://localhost:8080/"
        },
        "id": "bjOlzVhMGOfY",
        "outputId": "493e89c0-6d48-4e66-c92f-62650adea69f"
      },
      "execution_count": null,
      "outputs": [
        {
          "output_type": "stream",
          "name": "stdout",
          "text": [
            "Archive:  MMU-Iris-Database.zip\n",
            "replace ./data/MMU-Iris-Database/aeval/left/aeval1.bmp? [y]es, [n]o, [A]ll, [N]one, [r]ename: N\n"
          ]
        }
      ]
    },
    {
      "cell_type": "code",
      "source": [
        "# Importing Libraries using PIL, and implementing cross folding technique. Created a dataset using the imported images, the labels were taken from folder names.\n",
        "\n",
        "from PIL import Image\n",
        "import os\n",
        "import random\n",
        "from datasets import Dataset\n",
        "\n",
        "def import_images(root_dir, target_size=(192, 192)):\n",
        "    # Create lists to store the imported data\n",
        "    file_paths = []\n",
        "    images = []\n",
        "    labels = []\n",
        "\n",
        "    # Iterate through the folders in the root directory\n",
        "    for label_folder in os.listdir(root_dir):\n",
        "        label_path = os.path.join(root_dir, label_folder)\n",
        "\n",
        "        if os.path.isdir(label_path):\n",
        "            # Check for left and right folders\n",
        "            left_folder = os.path.join(label_path, 'left')\n",
        "            right_folder = os.path.join(label_path, 'right')\n",
        "\n",
        "            if os.path.exists(left_folder) and os.path.exists(right_folder):\n",
        "                # Get the list of files in the left and right folders\n",
        "                left_files = [file for file in os.listdir(left_folder) if file.lower().endswith('.bmp')]\n",
        "                right_files = [file for file in os.listdir(right_folder) if file.lower().endswith('.bmp')]\n",
        "\n",
        "                # Check if there are bmp files in the folders\n",
        "                if left_files and right_files:\n",
        "                  for i in range(len(left_files)):\n",
        "                    # Get the file paths\n",
        "                    # Take the first left and right images\n",
        "                    left_image_path = os.path.join(left_folder, left_files[i])\n",
        "                    right_image_path = os.path.join(right_folder, right_files[i])\n",
        "\n",
        "                    # Open the images using PIL\n",
        "                    left_image = Image.open(left_image_path)\n",
        "                    right_image = Image.open(right_image_path)\n",
        "\n",
        "                    # Resize images to the target size\n",
        "                    left_image = left_image.resize(target_size)\n",
        "                    right_image = right_image.resize(target_size)\n",
        "\n",
        "                    # Create a matrix for the target image\n",
        "                    target_image = Image.new(\"RGB\", (target_size[0], target_size[1]))\n",
        "\n",
        "                    # Randomly choose pixels from each image and fill the target image matrix\n",
        "                    for i in range(target_size[0]):\n",
        "                        for j in range(target_size[1]):\n",
        "                            if random.choice([True, False]):\n",
        "                                target_image.putpixel((i, j), left_image.getpixel((i, j)))\n",
        "                            else:\n",
        "                                target_image.putpixel((i, j), right_image.getpixel((i, j)))\n",
        "\n",
        "                    # Append the data to the lists\n",
        "                    file_paths.append(f'{label_folder}_crossfolded.jpg')\n",
        "                    images.append(target_image)\n",
        "                    labels.append(label_folder)\n",
        "\n",
        "    # Create a Hugging Face Dataset dictionary\n",
        "    dataset_dict = {\n",
        "        \"image_file_path\": file_paths,\n",
        "        \"image\": images,\n",
        "        \"labels\": labels,\n",
        "    }\n",
        "\n",
        "    # Convert to Hugging Face Dataset\n",
        "    dataset = Dataset.from_dict(dataset_dict)\n",
        "\n",
        "    return dataset"
      ],
      "metadata": {
        "id": "6ZVFn62cJ0k1"
      },
      "execution_count": null,
      "outputs": []
    },
    {
      "cell_type": "code",
      "source": [
        "\n",
        "# Specify the root directory containing the labeled folders\n",
        "root_directory = 'data/MMU-Iris-Database'\n",
        "\n",
        "# Import images and create the Hugging Face Dataset\n",
        "dataset = import_images(root_directory)\n",
        "\n",
        "# Access the Hugging Face Dataset (example for the first entry)\n",
        "example_entry = dataset[0]\n",
        "print(example_entry)"
      ],
      "metadata": {
        "colab": {
          "base_uri": "https://localhost:8080/"
        },
        "id": "yZij_zeMVBP5",
        "outputId": "7d8d6a4b-73e6-4225-a7e0-428388c1fcad"
      },
      "execution_count": null,
      "outputs": [
        {
          "output_type": "stream",
          "name": "stdout",
          "text": [
            "{'image_file_path': 'ongbll_crossfolded.jpg', 'image': <PIL.PngImagePlugin.PngImageFile image mode=RGB size=192x192 at 0x790AFBA018D0>, 'labels': 'ongbll'}\n"
          ]
        }
      ]
    },
    {
      "cell_type": "code",
      "source": [
        "import matplotlib.pyplot as plt\n",
        "\n",
        "dataset[0]['image']"
      ],
      "metadata": {
        "colab": {
          "base_uri": "https://localhost:8080/",
          "height": 209
        },
        "id": "ISKZ3TQMSgD1",
        "outputId": "31a98813-c39b-41f8-a9ff-c270ff9e9c96"
      },
      "execution_count": null,
      "outputs": [
        {
          "output_type": "execute_result",
          "data": {
            "text/plain": [
              "<PIL.PngImagePlugin.PngImageFile image mode=RGB size=192x192>"
            ],
            "image/png": "[encoded data removed]"
          },
          "metadata": {},
          "execution_count": 5
        }
      ]
    },
    {
      "cell_type": "code",
      "source": [
        "dataset"
      ],
      "metadata": {
        "colab": {
          "base_uri": "https://localhost:8080/"
        },
        "id": "Aurn2A5nW8vl",
        "outputId": "51617b06-4078-4a21-82e4-70ee92b0efb5"
      },
      "execution_count": null,
      "outputs": [
        {
          "output_type": "execute_result",
          "data": {
            "text/plain": [
              "Dataset({\n",
              "    features: ['image_file_path', 'image', 'labels'],\n",
              "    num_rows: 225\n",
              "})"
            ]
          },
          "metadata": {},
          "execution_count": 6
        }
      ]
    },
    {
      "cell_type": "code",
      "source": [
        "# Implemented data augmentation using trochvision - transforms, applied horizontal flip, crop, rotation and color adjustments. The modified dataset contains x2 size of original data.\n",
        "\n",
        "from PIL import Image, ImageOps\n",
        "from torchvision import transforms\n",
        "from datasets import Dataset\n",
        "\n",
        "\n",
        "# Define data augmentation transforms for PIL images\n",
        "data_transform = transforms.Compose([\n",
        "    transforms.RandomHorizontalFlip(),\n",
        "    transforms.RandomRotation(degrees=30),\n",
        "    transforms.ColorJitter(brightness=0.2, contrast=0.2, saturation=0.2, hue=0.2),\n",
        "    transforms.RandomResizedCrop(size=(192, 192), scale=(0.8, 1.0)),\n",
        "])\n",
        "\n",
        "# Create a new dataset to store both original and augmented images\n",
        "combined_data = {\n",
        "    \"image_file_path\": [],\n",
        "    \"image\": [],\n",
        "    \"labels\": [],\n",
        "}\n",
        "\n",
        "# Add original images to the new dataset\n",
        "combined_data[\"image_file_path\"].extend(dataset[\"image_file_path\"])\n",
        "combined_data[\"image\"].extend(dataset[\"image\"])\n",
        "combined_data[\"labels\"].extend(dataset[\"labels\"])\n",
        "\n",
        "# Apply data augmentation and add augmented images to the new dataset\n",
        "for image, label, file_path in zip(dataset[\"image\"], dataset[\"labels\"], dataset[\"image_file_path\"]):\n",
        "    augmented_image = data_transform(image)\n",
        "\n",
        "    # Append augmented image and corresponding label to the new dataset\n",
        "    combined_data[\"image_file_path\"].append(f\"{file_path}_augmented.jpg\")  # Adjust the filename as needed\n",
        "    combined_data[\"image\"].append(augmented_image)\n",
        "    combined_data[\"labels\"].append(label)\n",
        "\n",
        "# Create a new dataset with both original and augmented images\n",
        "combined_dataset = Dataset.from_dict(combined_data)\n",
        "\n",
        "# Now augmented_dataset contains augmented images in PIL format with unchanged labels\n",
        "# You can use it for training\n"
      ],
      "metadata": {
        "id": "jhvBUpZyYkMk"
      },
      "execution_count": null,
      "outputs": []
    },
    {
      "cell_type": "code",
      "source": [
        "# Implemented train-test-split\n",
        "combined_dataset = combined_dataset.shuffle(seed=42)\n",
        "data = combined_dataset.train_test_split(test_size=0.2)\n",
        "data"
      ],
      "metadata": {
        "colab": {
          "base_uri": "https://localhost:8080/"
        },
        "id": "CgutvOM7fEI_",
        "outputId": "c81f226d-4771-477d-b640-b7a103b30cec"
      },
      "execution_count": null,
      "outputs": [
        {
          "output_type": "execute_result",
          "data": {
            "text/plain": [
              "DatasetDict({\n",
              "    train: Dataset({\n",
              "        features: ['image_file_path', 'image', 'labels'],\n",
              "        num_rows: 360\n",
              "    })\n",
              "    test: Dataset({\n",
              "        features: ['image_file_path', 'image', 'labels'],\n",
              "        num_rows: 90\n",
              "    })\n",
              "})"
            ]
          },
          "metadata": {},
          "execution_count": 8
        }
      ]
    },
    {
      "cell_type": "code",
      "source": [
        "# Imported Vision Trnasformer fro Huggingface transformers library\n",
        "\n",
        "from transformers import ViTImageProcessor\n",
        "\n",
        "model_name_or_path = 'google/vit-base-patch16-224-in21k'\n",
        "processor = ViTImageProcessor.from_pretrained(model_name_or_path)\n"
      ],
      "metadata": {
        "id": "zbOYouFdU9QD"
      },
      "execution_count": null,
      "outputs": []
    },
    {
      "cell_type": "code",
      "source": [
        "def process_example(example):\n",
        "    inputs = processor(example['image'], return_tensors='pt')\n",
        "    inputs['labels'] = example['labels']\n",
        "    return inputs"
      ],
      "metadata": {
        "id": "TAOrJr2mVTyR"
      },
      "execution_count": null,
      "outputs": []
    },
    {
      "cell_type": "code",
      "source": [
        "type(combined_dataset[0]['image'])"
      ],
      "metadata": {
        "colab": {
          "base_uri": "https://localhost:8080/"
        },
        "id": "i4h9TzozdXu8",
        "outputId": "2b79da07-4ba1-4f79-81da-95abee49e10d"
      },
      "execution_count": null,
      "outputs": [
        {
          "output_type": "execute_result",
          "data": {
            "text/plain": [
              "PIL.PngImagePlugin.PngImageFile"
            ]
          },
          "metadata": {},
          "execution_count": 11
        }
      ]
    },
    {
      "cell_type": "code",
      "source": [
        "# Applied Image processing using VITImageProcessor\n",
        "def transform(example_batch):\n",
        "    # Take a list of PIL images and turn them to pixel values\n",
        "    inputs = processor([x for x in example_batch['image']], return_tensors='pt')\n",
        "\n",
        "    # Don't forget to include the labels!\n",
        "    inputs['labels'] = example_batch['labels']\n",
        "    return inputs"
      ],
      "metadata": {
        "id": "iaK_1SuDVdoh"
      },
      "execution_count": null,
      "outputs": []
    },
    {
      "cell_type": "code",
      "source": [
        "prepared_ds = data.with_transform(transform)"
      ],
      "metadata": {
        "id": "pxKgEmo4V6XY"
      },
      "execution_count": null,
      "outputs": []
    },
    {
      "cell_type": "code",
      "source": [
        "prepared_ds['train'][0]"
      ],
      "metadata": {
        "colab": {
          "base_uri": "https://localhost:8080/"
        },
        "id": "ZE_vq0eRWESu",
        "outputId": "d9cf31b6-f28f-4a47-e638-7811299b292b"
      },
      "execution_count": null,
      "outputs": [
        {
          "output_type": "execute_result",
          "data": {
            "text/plain": [
              "{'pixel_values': tensor([[[-1., -1., -1.,  ..., -1., -1., -1.],\n",
              "          [-1., -1., -1.,  ..., -1., -1., -1.],\n",
              "          [-1., -1., -1.,  ..., -1., -1., -1.],\n",
              "          ...,\n",
              "          [-1., -1., -1.,  ..., -1., -1., -1.],\n",
              "          [-1., -1., -1.,  ..., -1., -1., -1.],\n",
              "          [-1., -1., -1.,  ..., -1., -1., -1.]],\n",
              " \n",
              "         [[-1., -1., -1.,  ..., -1., -1., -1.],\n",
              "          [-1., -1., -1.,  ..., -1., -1., -1.],\n",
              "          [-1., -1., -1.,  ..., -1., -1., -1.],\n",
              "          ...,\n",
              "          [-1., -1., -1.,  ..., -1., -1., -1.],\n",
              "          [-1., -1., -1.,  ..., -1., -1., -1.],\n",
              "          [-1., -1., -1.,  ..., -1., -1., -1.]],\n",
              " \n",
              "         [[-1., -1., -1.,  ..., -1., -1., -1.],\n",
              "          [-1., -1., -1.,  ..., -1., -1., -1.],\n",
              "          [-1., -1., -1.,  ..., -1., -1., -1.],\n",
              "          ...,\n",
              "          [-1., -1., -1.,  ..., -1., -1., -1.],\n",
              "          [-1., -1., -1.,  ..., -1., -1., -1.],\n",
              "          [-1., -1., -1.,  ..., -1., -1., -1.]]]),\n",
              " 'labels': 'tickl'}"
            ]
          },
          "metadata": {},
          "execution_count": 14
        }
      ]
    },
    {
      "cell_type": "code",
      "source": [
        "# Checking for number of classes\n",
        "unique_labels = []\n",
        "for x in dataset['labels']:\n",
        "    if x not in unique_labels:\n",
        "        unique_labels.append(x)\n",
        "print(unique_labels)"
      ],
      "metadata": {
        "colab": {
          "base_uri": "https://localhost:8080/"
        },
        "id": "LUWt5kjRhPvA",
        "outputId": "a428dea1-5acf-4fd5-cd55-968a30fd53f4"
      },
      "execution_count": null,
      "outputs": [
        {
          "output_type": "stream",
          "name": "stdout",
          "text": [
            "['ongbll', 'aeval', 'lpjl', 'weecml', 'christinel', 'bryanl', 'suzailil', 'mimil', 'tonghll', 'vimalal', 'hockl', 'tingcyl', 'lowyfl', 'salal', 'philipl', 'lec', 'kelvinl', 'eugenehol', 'tickl', 'nkll', 'thomasl', 'sarinal', 'tanwnl', 'yannl', 'zulaikahl', 'mahskl', 'pcll', 'lokel', 'masl', 'winl', 'norsuhaidahl', 'fional', 'zaridahl', 'roslil', 'liujwl', 'ngkokwhyl', 'maranl', 'chingycl', 'mazwanl', 'minglil', 'chualsl', 'chongpkl', 'norazal', 'fatmal', 'sitil']\n"
          ]
        }
      ]
    },
    {
      "cell_type": "code",
      "source": [
        "# Implemented Collate Function for trainer model\n",
        "import torch\n",
        "\n",
        "label_encoder = {label: index for index, label in enumerate(unique_labels)}  # unique_labels should contain all unique label strings in your dataset\n",
        "\n",
        "def collate_fn(batch):\n",
        "    # Convert string labels to numerical format using label_encoder\n",
        "    numerical_labels = [label_encoder[x['labels']] for x in batch]\n",
        "\n",
        "    return {\n",
        "        'pixel_values': torch.stack([x['pixel_values'] for x in batch]),\n",
        "        'labels': torch.tensor(numerical_labels)\n",
        "    }\n",
        "\n"
      ],
      "metadata": {
        "id": "zkVHaFnlWAmx"
      },
      "execution_count": null,
      "outputs": []
    },
    {
      "cell_type": "code",
      "source": [
        "# Compute Metrics function for computing accuracy\n",
        "\n",
        "import numpy as np\n",
        "from datasets import load_metric\n",
        "\n",
        "metric = load_metric(\"accuracy\")\n",
        "def compute_metrics(p):\n",
        "    return metric.compute(predictions=np.argmax(p.predictions, axis=1), references=p.label_ids)\n"
      ],
      "metadata": {
        "colab": {
          "base_uri": "https://localhost:8080/"
        },
        "id": "P_APkhbsWD4R",
        "outputId": "25b9b35d-0dc8-469d-9203-3b7e2da84aef"
      },
      "execution_count": null,
      "outputs": [
        {
          "output_type": "stream",
          "name": "stderr",
          "text": [
            "<ipython-input-17-3044fb6e3895>:4: FutureWarning: load_metric is deprecated and will be removed in the next major version of datasets. Use 'evaluate.load' instead, from the new library 🤗 Evaluate: https://huggingface.co/docs/evaluate\n",
            "  metric = load_metric(\"accuracy\")\n"
          ]
        }
      ]
    },
    {
      "cell_type": "code",
      "source": [
        "dir(dataset.features['labels'])"
      ],
      "metadata": {
        "colab": {
          "base_uri": "https://localhost:8080/"
        },
        "id": "akCs5Tt5WbRV",
        "outputId": "d578c5e1-cdf1-4a8d-99bf-4be6879f40ae"
      },
      "execution_count": null,
      "outputs": [
        {
          "output_type": "execute_result",
          "data": {
            "text/plain": [
              "['__annotations__',\n",
              " '__call__',\n",
              " '__class__',\n",
              " '__dataclass_fields__',\n",
              " '__dataclass_params__',\n",
              " '__delattr__',\n",
              " '__dict__',\n",
              " '__dir__',\n",
              " '__doc__',\n",
              " '__eq__',\n",
              " '__format__',\n",
              " '__ge__',\n",
              " '__getattribute__',\n",
              " '__gt__',\n",
              " '__hash__',\n",
              " '__init__',\n",
              " '__init_subclass__',\n",
              " '__le__',\n",
              " '__lt__',\n",
              " '__match_args__',\n",
              " '__module__',\n",
              " '__ne__',\n",
              " '__new__',\n",
              " '__post_init__',\n",
              " '__reduce__',\n",
              " '__reduce_ex__',\n",
              " '__repr__',\n",
              " '__setattr__',\n",
              " '__sizeof__',\n",
              " '__slotnames__',\n",
              " '__str__',\n",
              " '__subclasshook__',\n",
              " '__weakref__',\n",
              " '_type',\n",
              " 'dtype',\n",
              " 'encode_example',\n",
              " 'id',\n",
              " 'pa_type']"
            ]
          },
          "metadata": {},
          "execution_count": 18
        }
      ]
    },
    {
      "cell_type": "code",
      "source": [
        "# Importing ViTForImageClassification from transformeres library\n",
        "\n",
        "from transformers import ViTForImageClassification\n",
        "\n",
        "labels = dataset['labels']\n",
        "\n",
        "model = ViTForImageClassification.from_pretrained(\n",
        "    model_name_or_path,\n",
        "    num_labels=len(labels),\n",
        "    id2label={str(i): c for i, c in enumerate(labels)},\n",
        "    label2id={c: str(i) for i, c in enumerate(labels)}\n",
        ")"
      ],
      "metadata": {
        "colab": {
          "base_uri": "https://localhost:8080/"
        },
        "id": "30Fvvda3WM-5",
        "outputId": "1527b06c-ddd4-4003-80b6-e5e1640153ba"
      },
      "execution_count": null,
      "outputs": [
        {
          "output_type": "stream",
          "name": "stderr",
          "text": [
            "Some weights of ViTForImageClassification were not initialized from the model checkpoint at google/vit-base-patch16-224-in21k and are newly initialized: ['classifier.weight', 'classifier.bias']\n",
            "You should probably TRAIN this model on a down-stream task to be able to use it for predictions and inference.\n"
          ]
        }
      ]
    },
    {
      "cell_type": "code",
      "source": [
        "# declaring Hyperparameters for the model to train on.\n",
        "\n",
        "from transformers import TrainingArguments, get_cosine_schedule_with_warmup, Trainer\n",
        "\n",
        "# Training arguments\n",
        "training_args = TrainingArguments(\n",
        "    output_dir=\"./vit-base-beans\",\n",
        "    per_device_train_batch_size=16,\n",
        "    evaluation_strategy=\"steps\",\n",
        "    num_train_epochs=8,  # Increase the number of epochs\n",
        "    fp16=True,\n",
        "    save_steps=100,\n",
        "    eval_steps=100,\n",
        "    logging_steps=10,\n",
        "    learning_rate=2e-4,\n",
        "    save_total_limit=2,\n",
        "    remove_unused_columns=False,\n",
        "    push_to_hub=False,\n",
        "    report_to='tensorboard',\n",
        "    load_best_model_at_end=True,\n",
        ")"
      ],
      "metadata": {
        "id": "CA77z7DxWOmg"
      },
      "execution_count": null,
      "outputs": []
    },
    {
      "cell_type": "code",
      "source": [
        "# Using AdamW optimizer with get_cosine_with_warmup_steps\n",
        "\n",
        "from transformers import AdamW\n",
        "# Optimizer with cosine annealing and warm-up\n",
        "num_training_steps = len(prepared_ds[\"train\"]) // training_args.per_device_train_batch_size * training_args.num_train_epochs\n",
        "optimizer_params = {\n",
        "    \"lr\": training_args.learning_rate,\n",
        "    \"eps\": 1e-8,\n",
        "    \"weight_decay\": 0.01,\n",
        "}\n",
        "optimizer = AdamW(model.parameters(), **optimizer_params)\n",
        "scheduler = get_cosine_schedule_with_warmup(optimizer, num_warmup_steps=num_training_steps // 10, num_training_steps=num_training_steps)\n",
        "\n"
      ],
      "metadata": {
        "colab": {
          "base_uri": "https://localhost:8080/"
        },
        "id": "6cMm8FGZijq1",
        "outputId": "e180f045-0f5e-422e-8d7e-a139fce4fc30"
      },
      "execution_count": null,
      "outputs": [
        {
          "output_type": "stream",
          "name": "stderr",
          "text": [
            "/usr/local/lib/python3.10/dist-packages/transformers/optimization.py:411: FutureWarning: This implementation of AdamW is deprecated and will be removed in a future version. Use the PyTorch implementation torch.optim.AdamW instead, or set `no_deprecation_warning=True` to disable this warning\n",
            "  warnings.warn(\n"
          ]
        }
      ]
    },
    {
      "cell_type": "code",
      "source": [
        "# declaring trainer object\n",
        "\n",
        "# Trainer\n",
        "trainer = Trainer(\n",
        "    model=model,\n",
        "    args=training_args,\n",
        "    data_collator=collate_fn,\n",
        "    compute_metrics=compute_metrics,\n",
        "    train_dataset=prepared_ds[\"train\"],\n",
        "    eval_dataset=prepared_ds[\"test\"],\n",
        "    tokenizer=processor,\n",
        "    optimizers=(optimizer, scheduler),  # Add scheduler\n",
        ")\n"
      ],
      "metadata": {
        "id": "0oQHTqkWWsKZ"
      },
      "execution_count": null,
      "outputs": []
    },
    {
      "cell_type": "code",
      "source": [
        "train_results = trainer.train()\n",
        "trainer.save_model()\n",
        "trainer.log_metrics(\"train\", train_results.metrics)\n",
        "trainer.save_metrics(\"train\", train_results.metrics)\n",
        "trainer.save_state()\n",
        "# Running train on train datset, got ccuracy of 82%"
      ],
      "metadata": {
        "colab": {
          "base_uri": "https://localhost:8080/",
          "height": 228
        },
        "id": "oumvfiFCWxGo",
        "outputId": "bb039359-afbe-4ad0-a62b-4da02abfbc82"
      },
      "execution_count": null,
      "outputs": [
        {
          "output_type": "display_data",
          "data": {
            "text/plain": [
              "<IPython.core.display.HTML object>"
            ],
            "text/html": [
              "\n",
              "    <div>\n",
              "      \n",
              "      <progress value='184' max='184' style='width:300px; height:20px; vertical-align: middle;'></progress>\n",
              "      [184/184 01:07, Epoch 8/8]\n",
              "    </div>\n",
              "    <table border=\"1\" class=\"dataframe\">\n",
              "  <thead>\n",
              " <tr style=\"text-align: left;\">\n",
              "      <th>Step</th>\n",
              "      <th>Training Loss</th>\n",
              "      <th>Validation Loss</th>\n",
              "      <th>Accuracy</th>\n",
              "    </tr>\n",
              "  </thead>\n",
              "  <tbody>\n",
              "    <tr>\n",
              "      <td>100</td>\n",
              "      <td>2.700800</td>\n",
              "      <td>3.027279</td>\n",
              "      <td>0.822222</td>\n",
              "    </tr>\n",
              "  </tbody>\n",
              "</table><p>"
            ]
          },
          "metadata": {}
        },
        {
          "output_type": "stream",
          "name": "stdout",
          "text": [
            "***** train metrics *****\n",
            "  epoch                    =         8.0\n",
            "  total_flos               = 208265137GF\n",
            "  train_loss               =      3.1842\n",
            "  train_runtime            =  0:01:08.54\n",
            "  train_samples_per_second =      42.018\n",
            "  train_steps_per_second   =       2.684\n"
          ]
        }
      ]
    },
    {
      "cell_type": "code",
      "source": [
        "metrics = trainer.evaluate(prepared_ds['test'])\n",
        "trainer.log_metrics(\"eval\", metrics)\n",
        "trainer.save_metrics(\"eval\", metrics)\n",
        "\n",
        "# Running eval on validation set, accuracy - 82%"
      ],
      "metadata": {
        "colab": {
          "base_uri": "https://localhost:8080/",
          "height": 158
        },
        "id": "f2gU8lqIWymA",
        "outputId": "96393774-ef78-41c2-bd31-83e2348db5fd"
      },
      "execution_count": null,
      "outputs": [
        {
          "output_type": "display_data",
          "data": {
            "text/plain": [
              "<IPython.core.display.HTML object>"
            ],
            "text/html": [
              "\n",
              "    <div>\n",
              "      \n",
              "      <progress value='12' max='12' style='width:300px; height:20px; vertical-align: middle;'></progress>\n",
              "      [12/12 00:01]\n",
              "    </div>\n",
              "    "
            ]
          },
          "metadata": {}
        },
        {
          "output_type": "stream",
          "name": "stdout",
          "text": [
            "***** eval metrics *****\n",
            "  epoch                   =        8.0\n",
            "  eval_accuracy           =     0.8222\n",
            "  eval_loss               =     3.0273\n",
            "  eval_runtime            = 0:00:01.22\n",
            "  eval_samples_per_second =     73.586\n",
            "  eval_steps_per_second   =      9.811\n"
          ]
        }
      ]
    },
    {
      "cell_type": "code",
      "source": [
        "y_true = [label_encoder[x['labels']] for x in prepared_ds['test']]\n"
      ],
      "metadata": {
        "id": "apHJEq7wjbfd"
      },
      "execution_count": null,
      "outputs": []
    },
    {
      "cell_type": "code",
      "source": [
        "y_true"
      ],
      "metadata": {
        "colab": {
          "base_uri": "https://localhost:8080/"
        },
        "id": "4sVa5M6BnbW2",
        "outputId": "000cd8a7-f141-4e40-f81d-d9352522ccd6"
      },
      "execution_count": null,
      "outputs": [
        {
          "output_type": "execute_result",
          "data": {
            "text/plain": [
              "array([ 8, 43,  7, 29, 22, 36,  9, 35, 24, 39, 44, 44,  9, 38, 31, 41, 14,\n",
              "       10,  8, 16,  3, 12, 27, 29, 23, 11, 44, 31,  5, 35,  9, 16, 23, 33,\n",
              "       40, 10,  3, 12,  4,  6, 34, 14,  2, 36, 17,  3, 43, 41, 29, 15, 29,\n",
              "       33, 32, 21, 42,  6, 31, 30, 43, 23,  7, 26, 19,  3, 15, 23, 15, 14,\n",
              "       25, 35, 25, 23, 35,  9,  7, 43, 25, 18, 18,  8,  8, 38, 25, 26,  4,\n",
              "        3,  5, 11, 20, 37])"
            ]
          },
          "metadata": {},
          "execution_count": 39
        }
      ]
    },
    {
      "cell_type": "code",
      "source": [
        "y_pred = np.argmax(trainer.predict(prepared_ds['test']).predictions, axis=1)"
      ],
      "metadata": {
        "colab": {
          "base_uri": "https://localhost:8080/"
        },
        "id": "6Uq5_X-9nYP0",
        "outputId": "c84f0f77-3895-455d-8a25-a8b221586676"
      },
      "execution_count": null,
      "outputs": [
        {
          "output_type": "execute_result",
          "data": {
            "text/plain": [
              "array([ 8, 43,  7, 29, 22, 36,  9, 35, 24, 39, 44, 44,  9, 38, 31, 41, 14,\n",
              "       10,  0, 16, 37, 12, 27, 28, 41, 11, 17, 31,  5, 35, 41, 16, 41, 33,\n",
              "       21, 10,  3, 12,  4,  6, 34, 14,  2, 36, 17, 37, 43, 41, 28, 15, 22,\n",
              "       33, 32, 21, 42,  6, 31, 30, 43,  8, 30, 26, 19,  3, 15, 41, 15, 14,\n",
              "       25, 35, 25, 23, 35,  9,  7, 43, 25, 18, 18,  0,  8, 38, 25, 26,  4,\n",
              "       37,  5, 11, 20, 37])"
            ]
          },
          "metadata": {},
          "execution_count": 36
        }
      ]
    },
    {
      "cell_type": "code",
      "source": [
        "ypred = [x for x in y_pred]"
      ],
      "metadata": {
        "id": "rm9mfe-TnlMt"
      },
      "execution_count": null,
      "outputs": []
    },
    {
      "cell_type": "code",
      "source": [
        "# Example: Get predictions on the validation set\n",
        "predictions = trainer.predict(trainer.eval_dataset)\n",
        "\n",
        "# Extract logits from the predictions\n",
        "logits = predictions.predictions\n",
        "\n",
        "# Convert logits to probabilities using softmax\n",
        "probs = torch.nn.functional.softmax(torch.tensor(logits), dim=-1)"
      ],
      "metadata": {
        "colab": {
          "base_uri": "https://localhost:8080/",
          "height": 17
        },
        "id": "TaiA4m7GpNDY",
        "outputId": "7d5f5841-c463-449d-9043-d0da40939b82"
      },
      "execution_count": null,
      "outputs": [
        {
          "output_type": "display_data",
          "data": {
            "text/plain": [
              "<IPython.core.display.HTML object>"
            ],
            "text/html": []
          },
          "metadata": {}
        }
      ]
    },
    {
      "cell_type": "code",
      "source": [
        "probs"
      ],
      "metadata": {
        "colab": {
          "base_uri": "https://localhost:8080/"
        },
        "id": "ya9uCbgjn-Qa",
        "outputId": "324a1e99-d62c-4d1e-ccad-08f96b5198f0"
      },
      "execution_count": null,
      "outputs": [
        {
          "output_type": "execute_result",
          "data": {
            "text/plain": [
              "tensor([[0.0221, 0.0099, 0.0087,  ..., 0.0025, 0.0023, 0.0023],\n",
              "        [0.0119, 0.0205, 0.0102,  ..., 0.0029, 0.0033, 0.0030],\n",
              "        [0.0132, 0.0110, 0.0219,  ..., 0.0023, 0.0024, 0.0024],\n",
              "        ...,\n",
              "        [0.0105, 0.0115, 0.0120,  ..., 0.0023, 0.0021, 0.0023],\n",
              "        [0.0204, 0.0172, 0.0110,  ..., 0.0021, 0.0025, 0.0024],\n",
              "        [0.0105, 0.0077, 0.0114,  ..., 0.0026, 0.0027, 0.0029]])"
            ]
          },
          "metadata": {},
          "execution_count": 53
        }
      ]
    },
    {
      "cell_type": "code",
      "source": [
        "import warnings\n",
        "warnings.filterwarnings(\"ignore\")"
      ],
      "metadata": {
        "id": "lwxI0pdkoNz1"
      },
      "execution_count": null,
      "outputs": []
    },
    {
      "cell_type": "code",
      "source": [
        "from sklearn.metrics import classification_report\n",
        "\n",
        "print(classification_report(y_true, ypred))"
      ],
      "metadata": {
        "colab": {
          "base_uri": "https://localhost:8080/"
        },
        "id": "YvUEw60Oh-W8",
        "outputId": "1d932587-fb06-4b4f-b443-4f54c614bc00"
      },
      "execution_count": null,
      "outputs": [
        {
          "output_type": "stream",
          "name": "stdout",
          "text": [
            "              precision    recall  f1-score   support\n",
            "\n",
            "           0       0.00      0.00      0.00         0\n",
            "           2       1.00      1.00      1.00         1\n",
            "           3       1.00      0.40      0.57         5\n",
            "           4       1.00      1.00      1.00         2\n",
            "           5       1.00      1.00      1.00         2\n",
            "           6       1.00      1.00      1.00         2\n",
            "           7       1.00      0.67      0.80         3\n",
            "           8       0.67      0.50      0.57         4\n",
            "           9       1.00      0.75      0.86         4\n",
            "          10       1.00      1.00      1.00         2\n",
            "          11       1.00      1.00      1.00         2\n",
            "          12       1.00      1.00      1.00         2\n",
            "          14       1.00      1.00      1.00         3\n",
            "          15       1.00      1.00      1.00         3\n",
            "          16       1.00      1.00      1.00         2\n",
            "          17       0.50      1.00      0.67         1\n",
            "          18       1.00      1.00      1.00         2\n",
            "          19       1.00      1.00      1.00         1\n",
            "          20       1.00      1.00      1.00         1\n",
            "          21       0.50      1.00      0.67         1\n",
            "          22       0.50      1.00      0.67         1\n",
            "          23       1.00      0.20      0.33         5\n",
            "          24       1.00      1.00      1.00         1\n",
            "          25       1.00      1.00      1.00         4\n",
            "          26       1.00      1.00      1.00         2\n",
            "          27       1.00      1.00      1.00         1\n",
            "          28       0.00      0.00      0.00         0\n",
            "          29       1.00      0.25      0.40         4\n",
            "          30       0.50      1.00      0.67         1\n",
            "          31       1.00      1.00      1.00         3\n",
            "          32       1.00      1.00      1.00         1\n",
            "          33       1.00      1.00      1.00         2\n",
            "          34       1.00      1.00      1.00         1\n",
            "          35       1.00      1.00      1.00         4\n",
            "          36       1.00      1.00      1.00         2\n",
            "          37       0.25      1.00      0.40         1\n",
            "          38       1.00      1.00      1.00         2\n",
            "          39       1.00      1.00      1.00         1\n",
            "          40       0.00      0.00      0.00         1\n",
            "          41       0.33      1.00      0.50         2\n",
            "          42       1.00      1.00      1.00         1\n",
            "          43       1.00      1.00      1.00         4\n",
            "          44       1.00      0.67      0.80         3\n",
            "\n",
            "    accuracy                           0.82        90\n",
            "   macro avg       0.84      0.85      0.81        90\n",
            "weighted avg       0.93      0.82      0.83        90\n",
            "\n"
          ]
        }
      ]
    },
    {
      "cell_type": "code",
      "source": [
        "import numpy as np\n",
        "import matplotlib.pyplot as plt\n",
        "from sklearn.metrics import confusion_matrix, roc_curve, roc_auc_score, precision_recall_curve, auc\n",
        "from sklearn.datasets import make_classification\n",
        "from sklearn.model_selection import train_test_split\n",
        "\n",
        "\n",
        "\n",
        "# Confusion Matrix\n",
        "cm = confusion_matrix(y_true, y_pred)\n",
        "\n",
        "\n",
        "# Plotting\n",
        "fig, (ax1) = plt.subplots(1, figsize=(15, 5))\n",
        "\n",
        "# Confusion Matrix\n",
        "ax1.imshow(cm, interpolation='nearest', cmap=plt.cm.Blues)\n",
        "ax1.set_title('Confusion Matrix')\n",
        "ax1.set_xticks([0, 1])\n",
        "ax1.set_yticks([0, 1])\n",
        "ax1.set_xlabel('Predicted')\n",
        "ax1.set_ylabel('True')\n",
        "ax1.grid(False)\n",
        "for i in range(2):\n",
        "    for j in range(2):\n",
        "        ax1.text(j, i, format(cm[i, j], 'd'), ha=\"center\", va=\"center\", color=\"white\" if cm[i, j] > cm.max() / 2 else \"black\")\n"
      ],
      "metadata": {
        "colab": {
          "base_uri": "https://localhost:8080/",
          "height": 487
        },
        "id": "8hs1sfpNjzA8",
        "outputId": "c9c672a8-e321-4334-feb8-324eba0bf1f5"
      },
      "execution_count": null,
      "outputs": [
        {
          "output_type": "display_data",
          "data": {
            "text/plain": [
              "<Figure size 1500x500 with 1 Axes>"
            ],
            "image/png": "[encoded data removed]"
          },
          "metadata": {}
        }
      ]
    },
    {
      "cell_type": "code",
      "source": [],
      "metadata": {
        "id": "dsaqQnbIqou5"
      },
      "execution_count": null,
      "outputs": []
    }
  ]
}